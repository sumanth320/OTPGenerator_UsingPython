{
 "cells": [
  {
   "cell_type": "code",
   "execution_count": null,
   "metadata": {},
   "outputs": [],
   "source": [
    "\n",
    "\n",
    "import random\n",
    "import requests\n",
    "\n",
    "otp = random.randint(1000,9999)\n",
    "\n",
    "def sms_send(num,otp):\n",
    "    url=\"https://www.fast2sms.com/dev/bulk\"\n",
    "    #Enter your API Key in the \"*\" below. Your Personal API Key will be obtained after you login to the website.\n",
    "    params={\n",
    "        \"authorization\":\"****************\",\n",
    "        \"sender_id\":\"SMSINI\",\n",
    "        \"message\":otp,\n",
    "        \"language\":\"english\",\n",
    "        \"route\":\"p\",\n",
    "        \"numbers\":num\n",
    "    }\n",
    "    rs=requests.get(url,params=params)\n",
    "\n",
    "    \n",
    "def send_otp(num):\n",
    "    if num=='':\n",
    "        print(\"Please enter your Mobile Number before proceeding\")\n",
    "    elif len(num)<10:\n",
    "        print(\"Invalid Mobile Number\")\n",
    "    else:\n",
    "        sms_send(num,otp)\n",
    "        \n",
    "  \n",
    "    \n",
    "num = input(\"Enter your mobile number  \")\n",
    "send_otp(num)\n",
    "print(\"Your OTP has been sent!\")\n",
    "\n",
    "\n",
    "    "
   ]
  }
 ],
 "metadata": {
  "kernelspec": {
   "display_name": "Python 3",
   "language": "python",
   "name": "python3"
  },
  "language_info": {
   "codemirror_mode": {
    "name": "ipython",
    "version": 3
   },
   "file_extension": ".py",
   "mimetype": "text/x-python",
   "name": "python",
   "nbconvert_exporter": "python",
   "pygments_lexer": "ipython3",
   "version": "3.7.3"
  }
 },
 "nbformat": 4,
 "nbformat_minor": 2
}
